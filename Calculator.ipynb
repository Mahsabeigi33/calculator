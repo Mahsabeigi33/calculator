{
  "cells": [
    {
      "cell_type": "markdown",
      "metadata": {
        "id": "view-in-github",
        "colab_type": "text"
      },
      "source": [
        "<a href=\"https://colab.research.google.com/github/Mahsabeigi33/calculator/blob/main/Calculator.ipynb\" target=\"_parent\"><img src=\"https://colab.research.google.com/assets/colab-badge.svg\" alt=\"Open In Colab\"/></a>"
      ]
    },
    {
      "cell_type": "code",
      "execution_count": null,
      "metadata": {
        "id": "4A9l_JCbjrdz"
      },
      "outputs": [],
      "source": [
        "!cd calculator/"
      ]
    },
    {
      "cell_type": "code",
      "execution_count": null,
      "metadata": {
        "id": "jnceb50nlcOx"
      },
      "outputs": [],
      "source": [
        "def prompt_menu():\n",
        "    a = float(input(\"Enter the first number: \"))\n",
        "    b = float(input(\"Enter the second number: \"))\n",
        "    print(\"\"\"\n",
        "Choose an operation from the list:\n",
        "+,-,*,/,^,%\n",
        "    \"\"\")\n",
        "    op = str(input(\"Enter the choice operation: \"))\n",
        "    return a, b, op\n",
        "\n",
        "def calculate():\n",
        "    a, b, op = prompt_menu()\n",
        "    if op == \"+\":\n",
        "        print(\"Sum: {} + {} = {}\".format(a,b,a+b))\n",
        "    elif op == \"-\":\n",
        "        print(\"Difference: {} - {} = {}\".format(a,b,a-b))\n",
        "    elif op == \"*\":\n",
        "        print(\"Mul: {} * {} = {}\".format(a,b,a*b))\n",
        "    elif op == \"^\":\n",
        "        print(\"Power: {}^{} = {}\".format(a,b,a**b))\n",
        "    elif op == \"/\":\n",
        "        try:\n",
        "            print(\"Quotient: {} / {} = {}\".format(a,b,a/b))\n",
        "        except:\n",
        "            print(\"Division by 0 not possible!\")\n",
        "    elif op == \"%\":\n",
        "        try:\n",
        "            print(\"Division with remainder: {} / {} = {} Remainder: {}\".format(a,b,a//b,a%b))\n",
        "        except:\n",
        "            print(\"Divsion by 0 not possible!\")\n",
        "    else:\n",
        "        print(\"No such choice!\")\n",
        "    loop()\n",
        "\n",
        "def loop():\n",
        "    choice = input(\"Do you want to continue? (Y,N): \")\n",
        "    if choice.upper() == \"Y\":\n",
        "        calculate()\n",
        "    elif choice.upper() == \"N\":\n",
        "        print(\"bye!\")\n",
        "    else:\n",
        "        print(\"Invalid input!\")\n",
        "        loop()\n",
        "\n",
        "calculate()"
      ]
    }
  ],
  "metadata": {
    "colab": {
      "provenance": [],
      "authorship_tag": "ABX9TyN/Q1bqHPeLagWTE9PqNuIW",
      "include_colab_link": true
    },
    "kernelspec": {
      "display_name": "Python 3",
      "name": "python3"
    },
    "language_info": {
      "name": "python"
    }
  },
  "nbformat": 4,
  "nbformat_minor": 0
}